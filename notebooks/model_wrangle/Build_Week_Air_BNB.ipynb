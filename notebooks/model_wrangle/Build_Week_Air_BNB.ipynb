{
 "cells": [
  {
   "cell_type": "markdown",
   "metadata": {},
   "source": [
    "## 1. |mp0rt"
   ]
  },
  {
   "cell_type": "code",
   "execution_count": 1,
   "metadata": {
    "id": "rckXwKDCgbpq"
   },
   "outputs": [],
   "source": [
    "# importing all the libraries needed for project, should all be in Pipfile\n",
    "\n",
    "from category_encoders import OrdinalEncoder\n",
    "from sklearn.ensemble import RandomForestRegressor\n",
    "from sklearn.impute import SimpleImputer\n",
    "from sklearn.metrics import accuracy_score, mean_absolute_error\n",
    "from sklearn.model_selection import cross_val_score, GridSearchCV, RandomizedSearchCV, train_test_split\n",
    "from sklearn.pipeline import make_pipeline\n",
    "import datetime\n",
    "import numpy as np\n",
    "import pandas as pd\n",
    "from pandas_profiling import ProfileReport"
   ]
  },
  {
   "cell_type": "code",
   "execution_count": 2,
   "metadata": {
    "id": "iqnC_s-bhPRI"
   },
   "outputs": [],
   "source": [
    "# import listings.csv, set the index to the listing id, and turn off truncation for df display\n",
    "df_list = pd.read_csv('listings.csv').set_index('id')\n",
    "pd.set_option('display.max_columns', 500)"
   ]
  },
  {
   "cell_type": "markdown",
   "metadata": {
    "id": "8bdzZIwHTQiO"
   },
   "source": [
    "## 2. Wr4ng|"
   ]
  },
  {
   "cell_type": "code",
   "execution_count": 3,
   "metadata": {},
   "outputs": [],
   "source": [
    "def wrangle(X):\n",
    "    \"\"\"A function to clean our data\"\"\"\n",
    "    \n",
    "    #Make a copy of the df\n",
    "    X = X.copy()\n",
    "\n",
    "    ## DROP unwanted columns; HiCard, urls, empty, redundant, etc.           80>|\n",
    "    drop_cols=['listing_url', 'scrape_id', 'last_scraped', 'name', 'description', \n",
    "               'neighborhood_overview', 'picture_url', 'host_url',\n",
    "               'host_name', 'host_since', 'host_location', 'host_about', \n",
    "               'host_thumbnail_url', 'host_picture_url', 'host_neighbourhood', \n",
    "               'neighbourhood', 'neighbourhood_group_cleansed', 'bathrooms', \n",
    "               'amenities', 'calendar_updated', 'has_availability',\n",
    "               'calendar_last_scraped', 'minimum_minimum_nights', \n",
    "               'maximum_minimum_nights', 'minimum_maximum_nights', \n",
    "               'maximum_maximum_nights']\n",
    "    X.drop(columns=drop_cols, inplace=True)\n",
    "    \n",
    "    ## A FUNC and execution thereof tallying number of host contacts that have been verified.\n",
    "    def num_contact(items):\n",
    "        items = items.replace('[','').replace(']','').replace(\"'\",'').split(',')\n",
    "        return len(items)\n",
    "    X['host_verifications'] = X['host_verifications'].apply(num_contact)\n",
    "    \n",
    "    ## Changing columns to BOOL vals     \n",
    "    # Convert \"t/f\" columns to BOOl columns.\n",
    "    def strToBool(text):\n",
    "      if text == 't':\n",
    "        return True\n",
    "      else:\n",
    "        return False\n",
    "    X['host_has_profile_pic'] = X['host_has_profile_pic'].apply(strToBool)\n",
    "    X['host_identity_verified'] = X['host_identity_verified'].apply(strToBool)\n",
    "    X['host_is_superhost'] = X['host_is_superhost'].apply(strToBool)\n",
    "    X['instant_bookable'] = X['instant_bookable'].apply(strToBool)\n",
    "    \n",
    "    # Convert license column to BOOL column.\n",
    "    def licenseToBool(text):      \n",
    "        if type(text) != float: \n",
    "            return True\n",
    "        else:\n",
    "            return False\n",
    "    X['license'] = X['license'].apply(lambda x: licenseToBool(x))  \n",
    "    \n",
    "    \n",
    "    ## Shorten/rename neighbourhood_cleansed' column as 'neighborhood'\n",
    "    X = X.rename({'neighbourhood_cleansed' : 'neighborhood'}, axis=1)\n",
    "    \n",
    "    ### BATHROOM FUNCTIONS\n",
    "    ## Change 'bathroom_text' column name to 'num_bathroom', i.e. number of baths\n",
    "    X = X.rename({'bathrooms_text' : 'num_bathroom'}, axis=1)\n",
    "    # Drop 2 null values in the 'num_bathroom' column\n",
    "    X = X[X['num_bathroom'].isnull() == False]\n",
    "    # Engineer a feature to specify if baths are shared or not\n",
    "    def parse_baths_shared(string):\n",
    "        if 'shared' in string.lower(): # .lower because there is one value to remove\n",
    "            return True                # \"Shared Half Bath\", we do\n",
    "        else:\n",
    "            return False\n",
    "    X['shared_bath'] = X['num_bathroom'].apply(parse_baths_shared)\n",
    "    \n",
    "    # Parse floats from the bathrooms_text column\n",
    "    def parse_baths(text):\n",
    "        if 'half-bath' in text.lower():\n",
    "            return 0.5\n",
    "\n",
    "        text = text.split(' ')\n",
    "        return float(text[0])\n",
    "    X['num_baths'] = X['num_bathroom'].apply(parse_baths)\n",
    "    X = X.drop(columns='num_bathroom')\n",
    "    ### END BATH\n",
    "    \n",
    "    # Change 'price' data type from OBJECT to INT\n",
    "    X['price'] = X['price'].apply(lambda x: float(x.replace('$',\"\").replace(',','')))\n",
    "    \n",
    "    # Change the data types of columns 'first_review' and 'last_review'\n",
    "    def datestojd(dt_str):\n",
    "        if type(dt_str) == float:\n",
    "            return dt_str\n",
    "        else:\n",
    "            jul_date = pd.to_datetime(dt_str)\n",
    "        return jul_date.to_julian_date()\n",
    "    X['first_review'] = X['first_review'].apply(lambda x: datestojd(x))\n",
    "    X['last_review'] = X['last_review'].apply(lambda x: datestojd(x))\n",
    "        \n",
    "    return X"
   ]
  },
  {
   "cell_type": "markdown",
   "metadata": {
    "id": "lWXuE60WTYpt"
   },
   "source": [
    "## €dα\n"
   ]
  },
  {
   "cell_type": "code",
   "execution_count": null,
   "metadata": {},
   "outputs": [],
   "source": [
    "# Create a df for pandas profiling\n",
    "df_profile = wrangle(df_list)"
   ]
  },
  {
   "cell_type": "code",
   "execution_count": null,
   "metadata": {
    "colab": {
     "base_uri": "https://localhost:8080/",
     "height": 113,
     "referenced_widgets": [
      "ce3ff5fa71c3455db492622dbeda34f9",
      "1a5a3f45b02647b480d1ee0d86a6d6c2",
      "34e7e2a8696f4b7db4485a0c92540fdf",
      "ad357fe004c946e68e4a463508244150",
      "09a1cd73365d44eea034c93965e2e6d3",
      "27793e69cbe6452d94708762ad0c6b2c",
      "a88a1d4d228f4260ba25b22aa7702c9f",
      "7dd5779d2566421eaf819432b8f957d1",
      "8f2f1e0762864c50851b0287ba00fb09",
      "1792583cb6c84bb1a7bfff15801438a1",
      "182fd61bbbcf420e97d4f2fd8d1b659b",
      "c961b7babdac472baade39a50a5fbb03",
      "6d46ca10d582456ea77b4bf8a06e4472",
      "569d5a15d8914ae99c4e325c721cb4c8",
      "f3ffa9911f1641d78332b133cb9133a3",
      "b8f147c6c6aa4a17ac6ed3e7da7bd91a",
      "6046fca66b3d455dad5262fb6bf8f55e",
      "d2ac01b1b089469fb1907baf87a70bc0",
      "c485d64858b1464a89898bc0e41c8fb7",
      "e81d7d171ae341ffa90eb58776d10a3a",
      "01686eccdd9949a7a7a12a92b06eeb82",
      "412abeccab62434eaca6c001600a1209",
      "ab60bf6eb49c4d929796054eb28c18f6",
      "2285a246bbc04b819737f46f607525f2",
      "f10af7692f8847c991dffa12ca59c5e5",
      "e4d11fd5ae794324a612b75a4c37b33c",
      "7210e48998ce4b519c5d81551a02d880",
      "b825f5c363824b9cb7a1f5aa7dc9a0e7",
      "e5905c7dd824491e804118e520b06337",
      "22f508b42ca54582b76e25a916356a70",
      "47361f8c357c49ab82183ed155fbd10e",
      "a13e1760bcf24f8cb8bcb78369212bbc",
      "73022415b56b4e4fb546abaff0f4eb06"
     ]
    },
    "id": "OGGUhxJ5kOJx",
    "outputId": "1036d4f8-0400-48ac-f473-dff7a2137f00",
    "scrolled": false
   },
   "outputs": [],
   "source": [
    "# Using pandas profiling to look at features and their properties\n",
    "profile = ProfileReport(df_profile)\n",
    "profile.to_notebook_iframe()"
   ]
  },
  {
   "cell_type": "markdown",
   "metadata": {},
   "source": [
    "# m0d3|"
   ]
  },
  {
   "cell_type": "code",
   "execution_count": 4,
   "metadata": {},
   "outputs": [],
   "source": [
    "# Create a df for train/test split and randomforestregssor models\n",
    "df_model = wrangle(df_list)"
   ]
  },
  {
   "cell_type": "markdown",
   "metadata": {},
   "source": [
    "# Train//tesT :: :: :: SΦLi_|_"
   ]
  },
  {
   "cell_type": "code",
   "execution_count": 5,
   "metadata": {},
   "outputs": [],
   "source": [
    "# setting the target for train/val/test splits\n",
    "target = 'price'\n",
    "\n",
    "y_init = df_model[target]\n",
    "X_init = df_model.drop(columns=target)"
   ]
  },
  {
   "cell_type": "code",
   "execution_count": 6,
   "metadata": {},
   "outputs": [
    {
     "name": "stdout",
     "output_type": "stream",
     "text": [
      "(3151, 47)\n",
      "(3151,)\n"
     ]
    }
   ],
   "source": [
    "print(X_init.shape)\n",
    "print(y_init.shape)"
   ]
  },
  {
   "cell_type": "code",
   "execution_count": 7,
   "metadata": {},
   "outputs": [],
   "source": [
    "X_subseq, X_test, y_subseq, y_test = train_test_split(X_init, y_init, test_size=0.1, random_state=13)"
   ]
  },
  {
   "cell_type": "code",
   "execution_count": 8,
   "metadata": {},
   "outputs": [
    {
     "name": "stdout",
     "output_type": "stream",
     "text": [
      "(316, 47)\n"
     ]
    }
   ],
   "source": [
    "print(X_test.shape)"
   ]
  },
  {
   "cell_type": "code",
   "execution_count": 9,
   "metadata": {},
   "outputs": [
    {
     "name": "stdout",
     "output_type": "stream",
     "text": [
      "(2835, 47)\n",
      "(2835,)\n"
     ]
    }
   ],
   "source": [
    "print(X_subseq.shape)\n",
    "print(y_subseq.shape)"
   ]
  },
  {
   "cell_type": "code",
   "execution_count": 10,
   "metadata": {},
   "outputs": [],
   "source": [
    "X_train, X_val, y_train, y_val = train_test_split(X_subseq, y_subseq, test_size=0.1114, random_state=17)"
   ]
  },
  {
   "cell_type": "code",
   "execution_count": 11,
   "metadata": {
    "scrolled": true
   },
   "outputs": [
    {
     "data": {
      "text/plain": [
       "(316, 47)"
      ]
     },
     "execution_count": 11,
     "metadata": {},
     "output_type": "execute_result"
    }
   ],
   "source": [
    "X_val.shape"
   ]
  },
  {
   "cell_type": "code",
   "execution_count": 17,
   "metadata": {},
   "outputs": [
    {
     "name": "stdout",
     "output_type": "stream",
     "text": [
      "(2519, 47)\n",
      "(316, 47)\n"
     ]
    }
   ],
   "source": [
    "print(X_train.shape)\n",
    "print(X_val.shape)"
   ]
  },
  {
   "cell_type": "markdown",
   "metadata": {},
   "source": [
    "## B4SSLI3N"
   ]
  },
  {
   "cell_type": "code",
   "execution_count": 18,
   "metadata": {
    "scrolled": true
   },
   "outputs": [
    {
     "name": "stdout",
     "output_type": "stream",
     "text": [
      "82.89001996891902\n"
     ]
    }
   ],
   "source": [
    "baseline_pred = [y_train.mean()] * len(y_train)\n",
    "\n",
    "baseline_mae = mean_absolute_error(y_train,baseline_pred)\n",
    "\n",
    "print(baseline_mae)"
   ]
  },
  {
   "cell_type": "markdown",
   "metadata": {},
   "source": [
    "## PIGH:P:LINE"
   ]
  },
  {
   "cell_type": "markdown",
   "metadata": {},
   "source": [
    "### GrdSRCH M0de|"
   ]
  },
  {
   "cell_type": "code",
   "execution_count": 13,
   "metadata": {},
   "outputs": [],
   "source": [
    "pipe_01 = make_pipeline(\n",
    "    OrdinalEncoder(),\n",
    "    SimpleImputer(),\n",
    "    RandomForestRegressor(random_state = 13,\n",
    "                           n_jobs = -2)\n",
    ")\n",
    "\n",
    "# params are a DICT\n",
    "params_01 = {\n",
    "    # 'key__hyperparam'(which step in pipeline you want looked at) : 'value'     \n",
    "    'randomforestregressor__max_depth' : range(200, 1201, 100),\n",
    "    'randomforestregressor__n_estimators' :  range(50, 351, 10),\n",
    "    'randomforestregressor__max_samples' : np.arange(0.1, 0.9, 0.1)\n",
    "    }"
   ]
  },
  {
   "cell_type": "code",
   "execution_count": null,
   "metadata": {},
   "outputs": [],
   "source": [
    "model_01 = GridSearchCV(\n",
    "    pipe_01,\n",
    "    param_grid = params_01,\n",
    "    n_jobs = -2,\n",
    "    cv = 5,\n",
    "    verbose = 3\n",
    ")"
   ]
  },
  {
   "cell_type": "code",
   "execution_count": 14,
   "metadata": {},
   "outputs": [
    {
     "data": {
      "text/plain": [
       "Pipeline(steps=[('ordinalencoder',\n",
       "                 OrdinalEncoder(cols=['host_response_time',\n",
       "                                      'host_response_rate',\n",
       "                                      'host_acceptance_rate', 'neighborhood',\n",
       "                                      'property_type', 'room_type'],\n",
       "                                mapping=[{'col': 'host_response_time',\n",
       "                                          'data_type': dtype('O'),\n",
       "                                          'mapping': within an hour        1\n",
       "within a few hours    2\n",
       "a few days or more    3\n",
       "within a day          4\n",
       "NaN                   5\n",
       "dtype: int64},\n",
       "                                         {'col': 'host_response_rate',\n",
       "                                          'data_type': dtyp...\n",
       "Private room in cottage              35\n",
       "Shared room in apartment             36\n",
       "Room in hotel                        37\n",
       "Private room in camper/rv            38\n",
       "Private room in hostel               39\n",
       "Private room                         40\n",
       "NaN                                  -2\n",
       "dtype: int64},\n",
       "                                         {'col': 'room_type',\n",
       "                                          'data_type': dtype('O'),\n",
       "                                          'mapping': Entire home/apt    1\n",
       "Private room       2\n",
       "Shared room        3\n",
       "Hotel room         4\n",
       "NaN               -2\n",
       "dtype: int64}])),\n",
       "                ('simpleimputer', SimpleImputer()),\n",
       "                ('randomforestregressor',\n",
       "                 RandomForestRegressor(n_jobs=-2, random_state=13))])"
      ]
     },
     "execution_count": 14,
     "metadata": {},
     "output_type": "execute_result"
    }
   ],
   "source": [
    "pipe_01.fit(X_train, y_train)"
   ]
  },
  {
   "cell_type": "code",
   "execution_count": 16,
   "metadata": {
    "scrolled": false
   },
   "outputs": [
    {
     "data": {
      "text/plain": [
       "review_scores_rating      0.015461\n",
       "review_scores_checkin     0.015807\n",
       "property_type             0.016095\n",
       "availability_365          0.017377\n",
       "availability_30           0.017386\n",
       "reviews_per_month         0.017642\n",
       "first_review              0.019246\n",
       "minimum_nights            0.020169\n",
       "availability_90           0.022007\n",
       "beds                      0.023287\n",
       "availability_60           0.025618\n",
       "accommodates              0.025731\n",
       "longitude                 0.027004\n",
       "host_id                   0.028576\n",
       "latitude                  0.029103\n",
       "minimum_nights_avg_ntm    0.047569\n",
       "bedrooms                  0.054194\n",
       "neighborhood              0.058383\n",
       "number_of_reviews         0.085911\n",
       "num_baths                 0.243179\n",
       "dtype: float64"
      ]
     },
     "execution_count": 16,
     "metadata": {},
     "output_type": "execute_result"
    }
   ],
   "source": [
    "importances = pipe_01.named_steps[\"randomforestregressor\"].feature_importances_\n",
    "\n",
    "features = X_train.columns\n",
    "feature_importances = pd.Series(importances, index=features).sort_values()\n",
    "\n",
    "feature_importances.tail(20)"
   ]
  },
  {
   "cell_type": "markdown",
   "metadata": {},
   "source": [
    "## Stripped Model\n",
    "\n",
    "Currently top 10 importance features"
   ]
  },
  {
   "cell_type": "code",
   "execution_count": null,
   "metadata": {},
   "outputs": [],
   "source": [
    "# secondary model with top 10 feats\n",
    "\n",
    "X_train2 = X_train[['host_id', 'last_review', 'minimum_nights', 'latitude',\n",
    "                   'minimum_nights_avg_ntm', 'first_review', 'bedrooms',\n",
    "                   'number_of_reviews', 'neighborhood', 'num_baths']]\n",
    "\n",
    "X_val2 = X_val[['host_id', 'last_review', 'minimum_nights', 'latitude',\n",
    "                'minimum_nights_avg_ntm', 'first_review', 'bedrooms',\n",
    "                'number_of_reviews', 'neighborhood', 'num_baths']]"
   ]
  },
  {
   "cell_type": "code",
   "execution_count": null,
   "metadata": {},
   "outputs": [],
   "source": [
    "pipe_02 = make_pipeline(\n",
    "    OrdinalEncoder(),\n",
    "    SimpleImputer(),\n",
    "    RandomForestRegressor(\n",
    "        n_estimators = 250,\n",
    "        max_depth = 150,\n",
    "        max_samples = 0.5,\n",
    "        random_state = 13,\n",
    "        n_jobs = -2)\n",
    ")"
   ]
  },
  {
   "cell_type": "code",
   "execution_count": null,
   "metadata": {},
   "outputs": [],
   "source": [
    "import joblib\n",
    "\n",
    "filename = 'working_model.sav'\n",
    "joblib.dump(pipe_02, filename)"
   ]
  },
  {
   "cell_type": "markdown",
   "metadata": {},
   "source": [
    "### Grid search for tuning"
   ]
  },
  {
   "cell_type": "code",
   "execution_count": null,
   "metadata": {},
   "outputs": [],
   "source": [
    "X_train3 = X_train[['review_scores_rating', 'review_scores_checkin', 'property_type',\n",
    "       'availability_365', 'availability_30', 'reviews_per_month',\n",
    "       'first_review', 'minimum_nights', 'availability_90', 'beds',\n",
    "       'availability_60', 'accommodates', 'longitude', 'host_id', 'latitude',\n",
    "       'minimum_nights_avg_ntm', 'bedrooms', 'neighborhood',\n",
    "       'number_of_reviews', 'num_baths']]\n",
    "\n",
    "X_val3 = X_val[['review_scores_rating', 'review_scores_checkin', 'property_type',\n",
    "       'availability_365', 'availability_30', 'reviews_per_month',\n",
    "       'first_review', 'minimum_nights', 'availability_90', 'beds',\n",
    "       'availability_60', 'accommodates', 'longitude', 'host_id', 'latitude',\n",
    "       'minimum_nights_avg_ntm', 'bedrooms', 'neighborhood',\n",
    "       'number_of_reviews', 'num_baths']]"
   ]
  },
  {
   "cell_type": "code",
   "execution_count": null,
   "metadata": {},
   "outputs": [],
   "source": [
    "pipe_03 = make_pipeline(\n",
    "    OrdinalEncoder(),\n",
    "    SimpleImputer(),\n",
    "    RandomForestRegressor(random_state = 13,\n",
    "                           n_jobs = -2)\n",
    ")\n",
    "\n",
    "# params are a DICT\n",
    "params_03 = {\n",
    "    # 'key__hyperparam'(which step in pipeline you want looked at) : 'value'     \n",
    "    'randomforestregressor__max_depth' : range(50, 200, 10),\n",
    "    'randomforestregressor__n_estimators' :  range(350, 550, 10),\n",
    "    'randomforestregressor__max_samples' : np.arange(0.05, 0.5, 0.05)\n",
    "    }"
   ]
  },
  {
   "cell_type": "code",
   "execution_count": null,
   "metadata": {},
   "outputs": [],
   "source": [
    "model_03 = GridSearchCV(\n",
    "    pipe_03,\n",
    "    param_grid = params_03,\n",
    "    n_jobs = -2,\n",
    "    cv = 5,\n",
    "    verbose = 3\n",
    ")"
   ]
  },
  {
   "cell_type": "code",
   "execution_count": null,
   "metadata": {},
   "outputs": [],
   "source": [
    "model_03.fit(X_train3, y_train)"
   ]
  },
  {
   "cell_type": "code",
   "execution_count": null,
   "metadata": {
    "scrolled": true
   },
   "outputs": [],
   "source": [
    "model_03.best_params_"
   ]
  },
  {
   "cell_type": "code",
   "execution_count": null,
   "metadata": {},
   "outputs": [],
   "source": [
    "print('Training MAE:', mean_absolute_error(y_train, model_03.predict(X_train3)))\n",
    "print('Validation MAE:', mean_absolute_error(y_val, model_03.predict(X_val3)))"
   ]
  },
  {
   "cell_type": "code",
   "execution_count": null,
   "metadata": {},
   "outputs": [],
   "source": [
    "params_03_2 = {\n",
    "    # 'key__hyperparam'(which step in pipeline you want looked at) : 'value'     \n",
    "    'randomforestregressor__max_depth' : range(20, 150, 10),\n",
    "    'randomforestregressor__n_estimators' :  range(350, 550, 10),\n",
    "    'randomforestregressor__max_samples' : np.arange(0.05, 0.5, 0.05)\n",
    "    }"
   ]
  },
  {
   "cell_type": "code",
   "execution_count": null,
   "metadata": {},
   "outputs": [],
   "source": [
    "# doubling folds, slight tweak down to max_depth\n",
    "model_03_2 = GridSearchCV(\n",
    "    pipe_03,\n",
    "    param_grid = params_03_2,\n",
    "    n_jobs = -2,\n",
    "    cv = 10,\n",
    "    verbose = 3\n",
    ")"
   ]
  },
  {
   "cell_type": "code",
   "execution_count": null,
   "metadata": {},
   "outputs": [],
   "source": [
    "model_03_2.fit(X_train3, y_train)"
   ]
  },
  {
   "cell_type": "code",
   "execution_count": null,
   "metadata": {},
   "outputs": [],
   "source": [
    "model_03_2.best_params_"
   ]
  },
  {
   "cell_type": "code",
   "execution_count": null,
   "metadata": {},
   "outputs": [],
   "source": [
    "print('Training MAE:', mean_absolute_error(y_train, model_03_2.predict(X_train3)))\n",
    "print('Validation MAE:', mean_absolute_error(y_val, model_03_2.predict(X_val3)))"
   ]
  },
  {
   "cell_type": "markdown",
   "metadata": {},
   "source": [
    "## Even finer tuning"
   ]
  },
  {
   "cell_type": "code",
   "execution_count": 19,
   "metadata": {},
   "outputs": [],
   "source": [
    "pipe_04 = make_pipeline(\n",
    "    OrdinalEncoder(),\n",
    "    SimpleImputer(),\n",
    "    RandomForestRegressor(random_state = 13,\n",
    "                           n_jobs = -2)\n",
    ")\n",
    "\n",
    "# params are a DICT\n",
    "params_04 = {\n",
    "    # 'key__hyperparam'(which step in pipeline you want looked at) : 'value'     \n",
    "    'randomforestregressor__max_depth' : range(10, 70, 5),\n",
    "    'randomforestregressor__n_estimators' :  range(480, 600, 5),\n",
    "    'randomforestregressor__max_samples' : np.arange(0.05, 0.13, 0.025)\n",
    "    }"
   ]
  },
  {
   "cell_type": "code",
   "execution_count": null,
   "metadata": {},
   "outputs": [],
   "source": [
    "model_04 = GridSearchCV(\n",
    "    pipe_04,\n",
    "    param_grid = params_04,\n",
    "    n_jobs = -2,\n",
    "    cv = 5,\n",
    "    verbose = 3\n",
    ")"
   ]
  },
  {
   "cell_type": "code",
   "execution_count": null,
   "metadata": {},
   "outputs": [],
   "source": [
    "model_04.fit(X_train3, y_train)"
   ]
  },
  {
   "cell_type": "code",
   "execution_count": null,
   "metadata": {},
   "outputs": [],
   "source": [
    "print('Training MAE:', mean_absolute_error(y_train, model_04.predict(X_train3)))\n",
    "print('Validation MAE:', mean_absolute_error(y_val, model_04.predict(X_val3)))"
   ]
  },
  {
   "cell_type": "code",
   "execution_count": null,
   "metadata": {},
   "outputs": [],
   "source": [
    "model_04.best_params_"
   ]
  },
  {
   "cell_type": "code",
   "execution_count": 20,
   "metadata": {},
   "outputs": [],
   "source": [
    "params_04_2 = {\n",
    "    # 'key__hyperparam'(which step in pipeline you want looked at) : 'value'     \n",
    "    'randomforestregressor__max_depth' : range(20, 40, 4),\n",
    "    'randomforestregressor__n_estimators' :  range(480, 530, 5),\n",
    "    'randomforestregressor__max_samples' : np.arange(0.025, 0.1, 0.025)\n",
    "    }"
   ]
  },
  {
   "cell_type": "code",
   "execution_count": 21,
   "metadata": {},
   "outputs": [],
   "source": [
    "model_04_2 = GridSearchCV(\n",
    "    pipe_04,\n",
    "    param_grid = params_04_2,\n",
    "    n_jobs = -2,\n",
    "    cv = 10,\n",
    "    verbose = 3\n",
    ")"
   ]
  },
  {
   "cell_type": "code",
   "execution_count": null,
   "metadata": {
    "scrolled": true
   },
   "outputs": [],
   "source": [
    "model_04_2.fit(X_train3, y_train)"
   ]
  },
  {
   "cell_type": "code",
   "execution_count": null,
   "metadata": {},
   "outputs": [],
   "source": [
    "print('Training MAE:', mean_absolute_error(y_train, model_04_2.predict(X_train3)))\n",
    "print('Validation MAE:', mean_absolute_error(y_val, model_04_2.predict(X_val3)))"
   ]
  },
  {
   "cell_type": "code",
   "execution_count": null,
   "metadata": {},
   "outputs": [],
   "source": [
    "model_04_2.best_params_"
   ]
  },
  {
   "cell_type": "code",
   "execution_count": null,
   "metadata": {},
   "outputs": [],
   "source": [
    "best_v_01 = make_pipeline(\n",
    "    OrdinalEncoder(),\n",
    "    SimpleImputer(),\n",
    "    RandomForestRegressor(\n",
    "        n_estimators = 250,\n",
    "        max_depth = 150,\n",
    "        max_samples = 0.5,\n",
    "        random_state = 13,\n",
    "        n_jobs = -2)\n",
    ")"
   ]
  },
  {
   "cell_type": "code",
   "execution_count": null,
   "metadata": {},
   "outputs": [],
   "source": [
    "best_v_01.fit(X_train3, y_train)"
   ]
  },
  {
   "cell_type": "code",
   "execution_count": null,
   "metadata": {},
   "outputs": [],
   "source": [
    "import joblib\n",
    "\n",
    "filename = 'best_model_v_01.sav'\n",
    "joblib.dump(best_v_01, filename)"
   ]
  }
 ],
 "metadata": {
  "colab": {
   "name": "Build_Week_Air_BNB.ipynb",
   "provenance": []
  },
  "kernelspec": {
   "display_name": "Python 3",
   "language": "python",
   "name": "python3"
  },
  "language_info": {
   "codemirror_mode": {
    "name": "ipython",
    "version": 3
   },
   "file_extension": ".py",
   "mimetype": "text/x-python",
   "name": "python",
   "nbconvert_exporter": "python",
   "pygments_lexer": "ipython3",
   "version": "3.8.7"
  },
  "widgets": {
   "application/vnd.jupyter.widget-state+json": {
    "01686eccdd9949a7a7a12a92b06eeb82": {
     "model_module": "@jupyter-widgets/controls",
     "model_name": "DescriptionStyleModel",
     "state": {
      "_model_module": "@jupyter-widgets/controls",
      "_model_module_version": "1.5.0",
      "_model_name": "DescriptionStyleModel",
      "_view_count": null,
      "_view_module": "@jupyter-widgets/base",
      "_view_module_version": "1.2.0",
      "_view_name": "StyleView",
      "description_width": ""
     }
    },
    "09a1cd73365d44eea034c93965e2e6d3": {
     "model_module": "@jupyter-widgets/controls",
     "model_name": "HTMLModel",
     "state": {
      "_dom_classes": [],
      "_model_module": "@jupyter-widgets/controls",
      "_model_module_version": "1.5.0",
      "_model_name": "HTMLModel",
      "_view_count": null,
      "_view_module": "@jupyter-widgets/controls",
      "_view_module_version": "1.5.0",
      "_view_name": "HTMLView",
      "description": "",
      "description_tooltip": null,
      "layout": "IPY_MODEL_182fd61bbbcf420e97d4f2fd8d1b659b",
      "placeholder": "​",
      "style": "IPY_MODEL_1792583cb6c84bb1a7bfff15801438a1",
      "value": " 78/78 [04:32&lt;00:00, 16.31s/it, Completed]"
     }
    },
    "1792583cb6c84bb1a7bfff15801438a1": {
     "model_module": "@jupyter-widgets/controls",
     "model_name": "DescriptionStyleModel",
     "state": {
      "_model_module": "@jupyter-widgets/controls",
      "_model_module_version": "1.5.0",
      "_model_name": "DescriptionStyleModel",
      "_view_count": null,
      "_view_module": "@jupyter-widgets/base",
      "_view_module_version": "1.2.0",
      "_view_name": "StyleView",
      "description_width": ""
     }
    },
    "182fd61bbbcf420e97d4f2fd8d1b659b": {
     "model_module": "@jupyter-widgets/base",
     "model_name": "LayoutModel",
     "state": {
      "_model_module": "@jupyter-widgets/base",
      "_model_module_version": "1.2.0",
      "_model_name": "LayoutModel",
      "_view_count": null,
      "_view_module": "@jupyter-widgets/base",
      "_view_module_version": "1.2.0",
      "_view_name": "LayoutView",
      "align_content": null,
      "align_items": null,
      "align_self": null,
      "border": null,
      "bottom": null,
      "display": null,
      "flex": null,
      "flex_flow": null,
      "grid_area": null,
      "grid_auto_columns": null,
      "grid_auto_flow": null,
      "grid_auto_rows": null,
      "grid_column": null,
      "grid_gap": null,
      "grid_row": null,
      "grid_template_areas": null,
      "grid_template_columns": null,
      "grid_template_rows": null,
      "height": null,
      "justify_content": null,
      "justify_items": null,
      "left": null,
      "margin": null,
      "max_height": null,
      "max_width": null,
      "min_height": null,
      "min_width": null,
      "object_fit": null,
      "object_position": null,
      "order": null,
      "overflow": null,
      "overflow_x": null,
      "overflow_y": null,
      "padding": null,
      "right": null,
      "top": null,
      "visibility": null,
      "width": null
     }
    },
    "1a5a3f45b02647b480d1ee0d86a6d6c2": {
     "model_module": "@jupyter-widgets/base",
     "model_name": "LayoutModel",
     "state": {
      "_model_module": "@jupyter-widgets/base",
      "_model_module_version": "1.2.0",
      "_model_name": "LayoutModel",
      "_view_count": null,
      "_view_module": "@jupyter-widgets/base",
      "_view_module_version": "1.2.0",
      "_view_name": "LayoutView",
      "align_content": null,
      "align_items": null,
      "align_self": null,
      "border": null,
      "bottom": null,
      "display": null,
      "flex": null,
      "flex_flow": null,
      "grid_area": null,
      "grid_auto_columns": null,
      "grid_auto_flow": null,
      "grid_auto_rows": null,
      "grid_column": null,
      "grid_gap": null,
      "grid_row": null,
      "grid_template_areas": null,
      "grid_template_columns": null,
      "grid_template_rows": null,
      "height": null,
      "justify_content": null,
      "justify_items": null,
      "left": null,
      "margin": null,
      "max_height": null,
      "max_width": null,
      "min_height": null,
      "min_width": null,
      "object_fit": null,
      "object_position": null,
      "order": null,
      "overflow": null,
      "overflow_x": null,
      "overflow_y": null,
      "padding": null,
      "right": null,
      "top": null,
      "visibility": null,
      "width": null
     }
    },
    "2285a246bbc04b819737f46f607525f2": {
     "model_module": "@jupyter-widgets/base",
     "model_name": "LayoutModel",
     "state": {
      "_model_module": "@jupyter-widgets/base",
      "_model_module_version": "1.2.0",
      "_model_name": "LayoutModel",
      "_view_count": null,
      "_view_module": "@jupyter-widgets/base",
      "_view_module_version": "1.2.0",
      "_view_name": "LayoutView",
      "align_content": null,
      "align_items": null,
      "align_self": null,
      "border": null,
      "bottom": null,
      "display": null,
      "flex": null,
      "flex_flow": null,
      "grid_area": null,
      "grid_auto_columns": null,
      "grid_auto_flow": null,
      "grid_auto_rows": null,
      "grid_column": null,
      "grid_gap": null,
      "grid_row": null,
      "grid_template_areas": null,
      "grid_template_columns": null,
      "grid_template_rows": null,
      "height": null,
      "justify_content": null,
      "justify_items": null,
      "left": null,
      "margin": null,
      "max_height": null,
      "max_width": null,
      "min_height": null,
      "min_width": null,
      "object_fit": null,
      "object_position": null,
      "order": null,
      "overflow": null,
      "overflow_x": null,
      "overflow_y": null,
      "padding": null,
      "right": null,
      "top": null,
      "visibility": null,
      "width": null
     }
    },
    "22f508b42ca54582b76e25a916356a70": {
     "model_module": "@jupyter-widgets/controls",
     "model_name": "ProgressStyleModel",
     "state": {
      "_model_module": "@jupyter-widgets/controls",
      "_model_module_version": "1.5.0",
      "_model_name": "ProgressStyleModel",
      "_view_count": null,
      "_view_module": "@jupyter-widgets/base",
      "_view_module_version": "1.2.0",
      "_view_name": "StyleView",
      "bar_color": null,
      "description_width": ""
     }
    },
    "27793e69cbe6452d94708762ad0c6b2c": {
     "model_module": "@jupyter-widgets/controls",
     "model_name": "DescriptionStyleModel",
     "state": {
      "_model_module": "@jupyter-widgets/controls",
      "_model_module_version": "1.5.0",
      "_model_name": "DescriptionStyleModel",
      "_view_count": null,
      "_view_module": "@jupyter-widgets/base",
      "_view_module_version": "1.2.0",
      "_view_name": "StyleView",
      "description_width": ""
     }
    },
    "34e7e2a8696f4b7db4485a0c92540fdf": {
     "model_module": "@jupyter-widgets/controls",
     "model_name": "HTMLModel",
     "state": {
      "_dom_classes": [],
      "_model_module": "@jupyter-widgets/controls",
      "_model_module_version": "1.5.0",
      "_model_name": "HTMLModel",
      "_view_count": null,
      "_view_module": "@jupyter-widgets/controls",
      "_view_module_version": "1.5.0",
      "_view_name": "HTMLView",
      "description": "",
      "description_tooltip": null,
      "layout": "IPY_MODEL_a88a1d4d228f4260ba25b22aa7702c9f",
      "placeholder": "​",
      "style": "IPY_MODEL_27793e69cbe6452d94708762ad0c6b2c",
      "value": "Summarize dataset: 100%"
     }
    },
    "412abeccab62434eaca6c001600a1209": {
     "model_module": "@jupyter-widgets/base",
     "model_name": "LayoutModel",
     "state": {
      "_model_module": "@jupyter-widgets/base",
      "_model_module_version": "1.2.0",
      "_model_name": "LayoutModel",
      "_view_count": null,
      "_view_module": "@jupyter-widgets/base",
      "_view_module_version": "1.2.0",
      "_view_name": "LayoutView",
      "align_content": null,
      "align_items": null,
      "align_self": null,
      "border": null,
      "bottom": null,
      "display": null,
      "flex": null,
      "flex_flow": null,
      "grid_area": null,
      "grid_auto_columns": null,
      "grid_auto_flow": null,
      "grid_auto_rows": null,
      "grid_column": null,
      "grid_gap": null,
      "grid_row": null,
      "grid_template_areas": null,
      "grid_template_columns": null,
      "grid_template_rows": null,
      "height": null,
      "justify_content": null,
      "justify_items": null,
      "left": null,
      "margin": null,
      "max_height": null,
      "max_width": null,
      "min_height": null,
      "min_width": null,
      "object_fit": null,
      "object_position": null,
      "order": null,
      "overflow": null,
      "overflow_x": null,
      "overflow_y": null,
      "padding": null,
      "right": null,
      "top": null,
      "visibility": null,
      "width": null
     }
    },
    "47361f8c357c49ab82183ed155fbd10e": {
     "model_module": "@jupyter-widgets/base",
     "model_name": "LayoutModel",
     "state": {
      "_model_module": "@jupyter-widgets/base",
      "_model_module_version": "1.2.0",
      "_model_name": "LayoutModel",
      "_view_count": null,
      "_view_module": "@jupyter-widgets/base",
      "_view_module_version": "1.2.0",
      "_view_name": "LayoutView",
      "align_content": null,
      "align_items": null,
      "align_self": null,
      "border": null,
      "bottom": null,
      "display": null,
      "flex": null,
      "flex_flow": null,
      "grid_area": null,
      "grid_auto_columns": null,
      "grid_auto_flow": null,
      "grid_auto_rows": null,
      "grid_column": null,
      "grid_gap": null,
      "grid_row": null,
      "grid_template_areas": null,
      "grid_template_columns": null,
      "grid_template_rows": null,
      "height": null,
      "justify_content": null,
      "justify_items": null,
      "left": null,
      "margin": null,
      "max_height": null,
      "max_width": null,
      "min_height": null,
      "min_width": null,
      "object_fit": null,
      "object_position": null,
      "order": null,
      "overflow": null,
      "overflow_x": null,
      "overflow_y": null,
      "padding": null,
      "right": null,
      "top": null,
      "visibility": null,
      "width": null
     }
    },
    "569d5a15d8914ae99c4e325c721cb4c8": {
     "model_module": "@jupyter-widgets/controls",
     "model_name": "HTMLModel",
     "state": {
      "_dom_classes": [],
      "_model_module": "@jupyter-widgets/controls",
      "_model_module_version": "1.5.0",
      "_model_name": "HTMLModel",
      "_view_count": null,
      "_view_module": "@jupyter-widgets/controls",
      "_view_module_version": "1.5.0",
      "_view_name": "HTMLView",
      "description": "",
      "description_tooltip": null,
      "layout": "IPY_MODEL_d2ac01b1b089469fb1907baf87a70bc0",
      "placeholder": "​",
      "style": "IPY_MODEL_6046fca66b3d455dad5262fb6bf8f55e",
      "value": "Generate report structure: 100%"
     }
    },
    "6046fca66b3d455dad5262fb6bf8f55e": {
     "model_module": "@jupyter-widgets/controls",
     "model_name": "DescriptionStyleModel",
     "state": {
      "_model_module": "@jupyter-widgets/controls",
      "_model_module_version": "1.5.0",
      "_model_name": "DescriptionStyleModel",
      "_view_count": null,
      "_view_module": "@jupyter-widgets/base",
      "_view_module_version": "1.2.0",
      "_view_name": "StyleView",
      "description_width": ""
     }
    },
    "6d46ca10d582456ea77b4bf8a06e4472": {
     "model_module": "@jupyter-widgets/base",
     "model_name": "LayoutModel",
     "state": {
      "_model_module": "@jupyter-widgets/base",
      "_model_module_version": "1.2.0",
      "_model_name": "LayoutModel",
      "_view_count": null,
      "_view_module": "@jupyter-widgets/base",
      "_view_module_version": "1.2.0",
      "_view_name": "LayoutView",
      "align_content": null,
      "align_items": null,
      "align_self": null,
      "border": null,
      "bottom": null,
      "display": null,
      "flex": null,
      "flex_flow": null,
      "grid_area": null,
      "grid_auto_columns": null,
      "grid_auto_flow": null,
      "grid_auto_rows": null,
      "grid_column": null,
      "grid_gap": null,
      "grid_row": null,
      "grid_template_areas": null,
      "grid_template_columns": null,
      "grid_template_rows": null,
      "height": null,
      "justify_content": null,
      "justify_items": null,
      "left": null,
      "margin": null,
      "max_height": null,
      "max_width": null,
      "min_height": null,
      "min_width": null,
      "object_fit": null,
      "object_position": null,
      "order": null,
      "overflow": null,
      "overflow_x": null,
      "overflow_y": null,
      "padding": null,
      "right": null,
      "top": null,
      "visibility": null,
      "width": null
     }
    },
    "7210e48998ce4b519c5d81551a02d880": {
     "model_module": "@jupyter-widgets/controls",
     "model_name": "HTMLModel",
     "state": {
      "_dom_classes": [],
      "_model_module": "@jupyter-widgets/controls",
      "_model_module_version": "1.5.0",
      "_model_name": "HTMLModel",
      "_view_count": null,
      "_view_module": "@jupyter-widgets/controls",
      "_view_module_version": "1.5.0",
      "_view_name": "HTMLView",
      "description": "",
      "description_tooltip": null,
      "layout": "IPY_MODEL_73022415b56b4e4fb546abaff0f4eb06",
      "placeholder": "​",
      "style": "IPY_MODEL_a13e1760bcf24f8cb8bcb78369212bbc",
      "value": " 1/1 [00:45&lt;00:00, 45.13s/it]"
     }
    },
    "73022415b56b4e4fb546abaff0f4eb06": {
     "model_module": "@jupyter-widgets/base",
     "model_name": "LayoutModel",
     "state": {
      "_model_module": "@jupyter-widgets/base",
      "_model_module_version": "1.2.0",
      "_model_name": "LayoutModel",
      "_view_count": null,
      "_view_module": "@jupyter-widgets/base",
      "_view_module_version": "1.2.0",
      "_view_name": "LayoutView",
      "align_content": null,
      "align_items": null,
      "align_self": null,
      "border": null,
      "bottom": null,
      "display": null,
      "flex": null,
      "flex_flow": null,
      "grid_area": null,
      "grid_auto_columns": null,
      "grid_auto_flow": null,
      "grid_auto_rows": null,
      "grid_column": null,
      "grid_gap": null,
      "grid_row": null,
      "grid_template_areas": null,
      "grid_template_columns": null,
      "grid_template_rows": null,
      "height": null,
      "justify_content": null,
      "justify_items": null,
      "left": null,
      "margin": null,
      "max_height": null,
      "max_width": null,
      "min_height": null,
      "min_width": null,
      "object_fit": null,
      "object_position": null,
      "order": null,
      "overflow": null,
      "overflow_x": null,
      "overflow_y": null,
      "padding": null,
      "right": null,
      "top": null,
      "visibility": null,
      "width": null
     }
    },
    "7dd5779d2566421eaf819432b8f957d1": {
     "model_module": "@jupyter-widgets/controls",
     "model_name": "ProgressStyleModel",
     "state": {
      "_model_module": "@jupyter-widgets/controls",
      "_model_module_version": "1.5.0",
      "_model_name": "ProgressStyleModel",
      "_view_count": null,
      "_view_module": "@jupyter-widgets/base",
      "_view_module_version": "1.2.0",
      "_view_name": "StyleView",
      "bar_color": null,
      "description_width": ""
     }
    },
    "8f2f1e0762864c50851b0287ba00fb09": {
     "model_module": "@jupyter-widgets/base",
     "model_name": "LayoutModel",
     "state": {
      "_model_module": "@jupyter-widgets/base",
      "_model_module_version": "1.2.0",
      "_model_name": "LayoutModel",
      "_view_count": null,
      "_view_module": "@jupyter-widgets/base",
      "_view_module_version": "1.2.0",
      "_view_name": "LayoutView",
      "align_content": null,
      "align_items": null,
      "align_self": null,
      "border": null,
      "bottom": null,
      "display": null,
      "flex": null,
      "flex_flow": null,
      "grid_area": null,
      "grid_auto_columns": null,
      "grid_auto_flow": null,
      "grid_auto_rows": null,
      "grid_column": null,
      "grid_gap": null,
      "grid_row": null,
      "grid_template_areas": null,
      "grid_template_columns": null,
      "grid_template_rows": null,
      "height": null,
      "justify_content": null,
      "justify_items": null,
      "left": null,
      "margin": null,
      "max_height": null,
      "max_width": null,
      "min_height": null,
      "min_width": null,
      "object_fit": null,
      "object_position": null,
      "order": null,
      "overflow": null,
      "overflow_x": null,
      "overflow_y": null,
      "padding": null,
      "right": null,
      "top": null,
      "visibility": null,
      "width": null
     }
    },
    "a13e1760bcf24f8cb8bcb78369212bbc": {
     "model_module": "@jupyter-widgets/controls",
     "model_name": "DescriptionStyleModel",
     "state": {
      "_model_module": "@jupyter-widgets/controls",
      "_model_module_version": "1.5.0",
      "_model_name": "DescriptionStyleModel",
      "_view_count": null,
      "_view_module": "@jupyter-widgets/base",
      "_view_module_version": "1.2.0",
      "_view_name": "StyleView",
      "description_width": ""
     }
    },
    "a88a1d4d228f4260ba25b22aa7702c9f": {
     "model_module": "@jupyter-widgets/base",
     "model_name": "LayoutModel",
     "state": {
      "_model_module": "@jupyter-widgets/base",
      "_model_module_version": "1.2.0",
      "_model_name": "LayoutModel",
      "_view_count": null,
      "_view_module": "@jupyter-widgets/base",
      "_view_module_version": "1.2.0",
      "_view_name": "LayoutView",
      "align_content": null,
      "align_items": null,
      "align_self": null,
      "border": null,
      "bottom": null,
      "display": null,
      "flex": null,
      "flex_flow": null,
      "grid_area": null,
      "grid_auto_columns": null,
      "grid_auto_flow": null,
      "grid_auto_rows": null,
      "grid_column": null,
      "grid_gap": null,
      "grid_row": null,
      "grid_template_areas": null,
      "grid_template_columns": null,
      "grid_template_rows": null,
      "height": null,
      "justify_content": null,
      "justify_items": null,
      "left": null,
      "margin": null,
      "max_height": null,
      "max_width": null,
      "min_height": null,
      "min_width": null,
      "object_fit": null,
      "object_position": null,
      "order": null,
      "overflow": null,
      "overflow_x": null,
      "overflow_y": null,
      "padding": null,
      "right": null,
      "top": null,
      "visibility": null,
      "width": null
     }
    },
    "ab60bf6eb49c4d929796054eb28c18f6": {
     "model_module": "@jupyter-widgets/controls",
     "model_name": "HBoxModel",
     "state": {
      "_dom_classes": [],
      "_model_module": "@jupyter-widgets/controls",
      "_model_module_version": "1.5.0",
      "_model_name": "HBoxModel",
      "_view_count": null,
      "_view_module": "@jupyter-widgets/controls",
      "_view_module_version": "1.5.0",
      "_view_name": "HBoxView",
      "box_style": "",
      "children": [
       "IPY_MODEL_f10af7692f8847c991dffa12ca59c5e5",
       "IPY_MODEL_e4d11fd5ae794324a612b75a4c37b33c",
       "IPY_MODEL_7210e48998ce4b519c5d81551a02d880"
      ],
      "layout": "IPY_MODEL_2285a246bbc04b819737f46f607525f2"
     }
    },
    "ad357fe004c946e68e4a463508244150": {
     "model_module": "@jupyter-widgets/controls",
     "model_name": "FloatProgressModel",
     "state": {
      "_dom_classes": [],
      "_model_module": "@jupyter-widgets/controls",
      "_model_module_version": "1.5.0",
      "_model_name": "FloatProgressModel",
      "_view_count": null,
      "_view_module": "@jupyter-widgets/controls",
      "_view_module_version": "1.5.0",
      "_view_name": "ProgressView",
      "bar_style": "success",
      "description": "",
      "description_tooltip": null,
      "layout": "IPY_MODEL_8f2f1e0762864c50851b0287ba00fb09",
      "max": 78,
      "min": 0,
      "orientation": "horizontal",
      "style": "IPY_MODEL_7dd5779d2566421eaf819432b8f957d1",
      "value": 78
     }
    },
    "b825f5c363824b9cb7a1f5aa7dc9a0e7": {
     "model_module": "@jupyter-widgets/controls",
     "model_name": "DescriptionStyleModel",
     "state": {
      "_model_module": "@jupyter-widgets/controls",
      "_model_module_version": "1.5.0",
      "_model_name": "DescriptionStyleModel",
      "_view_count": null,
      "_view_module": "@jupyter-widgets/base",
      "_view_module_version": "1.2.0",
      "_view_name": "StyleView",
      "description_width": ""
     }
    },
    "b8f147c6c6aa4a17ac6ed3e7da7bd91a": {
     "model_module": "@jupyter-widgets/controls",
     "model_name": "HTMLModel",
     "state": {
      "_dom_classes": [],
      "_model_module": "@jupyter-widgets/controls",
      "_model_module_version": "1.5.0",
      "_model_name": "HTMLModel",
      "_view_count": null,
      "_view_module": "@jupyter-widgets/controls",
      "_view_module_version": "1.5.0",
      "_view_name": "HTMLView",
      "description": "",
      "description_tooltip": null,
      "layout": "IPY_MODEL_412abeccab62434eaca6c001600a1209",
      "placeholder": "​",
      "style": "IPY_MODEL_01686eccdd9949a7a7a12a92b06eeb82",
      "value": " 1/1 [00:31&lt;00:00, 31.96s/it]"
     }
    },
    "c485d64858b1464a89898bc0e41c8fb7": {
     "model_module": "@jupyter-widgets/controls",
     "model_name": "ProgressStyleModel",
     "state": {
      "_model_module": "@jupyter-widgets/controls",
      "_model_module_version": "1.5.0",
      "_model_name": "ProgressStyleModel",
      "_view_count": null,
      "_view_module": "@jupyter-widgets/base",
      "_view_module_version": "1.2.0",
      "_view_name": "StyleView",
      "bar_color": null,
      "description_width": ""
     }
    },
    "c961b7babdac472baade39a50a5fbb03": {
     "model_module": "@jupyter-widgets/controls",
     "model_name": "HBoxModel",
     "state": {
      "_dom_classes": [],
      "_model_module": "@jupyter-widgets/controls",
      "_model_module_version": "1.5.0",
      "_model_name": "HBoxModel",
      "_view_count": null,
      "_view_module": "@jupyter-widgets/controls",
      "_view_module_version": "1.5.0",
      "_view_name": "HBoxView",
      "box_style": "",
      "children": [
       "IPY_MODEL_569d5a15d8914ae99c4e325c721cb4c8",
       "IPY_MODEL_f3ffa9911f1641d78332b133cb9133a3",
       "IPY_MODEL_b8f147c6c6aa4a17ac6ed3e7da7bd91a"
      ],
      "layout": "IPY_MODEL_6d46ca10d582456ea77b4bf8a06e4472"
     }
    },
    "ce3ff5fa71c3455db492622dbeda34f9": {
     "model_module": "@jupyter-widgets/controls",
     "model_name": "HBoxModel",
     "state": {
      "_dom_classes": [],
      "_model_module": "@jupyter-widgets/controls",
      "_model_module_version": "1.5.0",
      "_model_name": "HBoxModel",
      "_view_count": null,
      "_view_module": "@jupyter-widgets/controls",
      "_view_module_version": "1.5.0",
      "_view_name": "HBoxView",
      "box_style": "",
      "children": [
       "IPY_MODEL_34e7e2a8696f4b7db4485a0c92540fdf",
       "IPY_MODEL_ad357fe004c946e68e4a463508244150",
       "IPY_MODEL_09a1cd73365d44eea034c93965e2e6d3"
      ],
      "layout": "IPY_MODEL_1a5a3f45b02647b480d1ee0d86a6d6c2"
     }
    },
    "d2ac01b1b089469fb1907baf87a70bc0": {
     "model_module": "@jupyter-widgets/base",
     "model_name": "LayoutModel",
     "state": {
      "_model_module": "@jupyter-widgets/base",
      "_model_module_version": "1.2.0",
      "_model_name": "LayoutModel",
      "_view_count": null,
      "_view_module": "@jupyter-widgets/base",
      "_view_module_version": "1.2.0",
      "_view_name": "LayoutView",
      "align_content": null,
      "align_items": null,
      "align_self": null,
      "border": null,
      "bottom": null,
      "display": null,
      "flex": null,
      "flex_flow": null,
      "grid_area": null,
      "grid_auto_columns": null,
      "grid_auto_flow": null,
      "grid_auto_rows": null,
      "grid_column": null,
      "grid_gap": null,
      "grid_row": null,
      "grid_template_areas": null,
      "grid_template_columns": null,
      "grid_template_rows": null,
      "height": null,
      "justify_content": null,
      "justify_items": null,
      "left": null,
      "margin": null,
      "max_height": null,
      "max_width": null,
      "min_height": null,
      "min_width": null,
      "object_fit": null,
      "object_position": null,
      "order": null,
      "overflow": null,
      "overflow_x": null,
      "overflow_y": null,
      "padding": null,
      "right": null,
      "top": null,
      "visibility": null,
      "width": null
     }
    },
    "e4d11fd5ae794324a612b75a4c37b33c": {
     "model_module": "@jupyter-widgets/controls",
     "model_name": "FloatProgressModel",
     "state": {
      "_dom_classes": [],
      "_model_module": "@jupyter-widgets/controls",
      "_model_module_version": "1.5.0",
      "_model_name": "FloatProgressModel",
      "_view_count": null,
      "_view_module": "@jupyter-widgets/controls",
      "_view_module_version": "1.5.0",
      "_view_name": "ProgressView",
      "bar_style": "success",
      "description": "",
      "description_tooltip": null,
      "layout": "IPY_MODEL_47361f8c357c49ab82183ed155fbd10e",
      "max": 1,
      "min": 0,
      "orientation": "horizontal",
      "style": "IPY_MODEL_22f508b42ca54582b76e25a916356a70",
      "value": 1
     }
    },
    "e5905c7dd824491e804118e520b06337": {
     "model_module": "@jupyter-widgets/base",
     "model_name": "LayoutModel",
     "state": {
      "_model_module": "@jupyter-widgets/base",
      "_model_module_version": "1.2.0",
      "_model_name": "LayoutModel",
      "_view_count": null,
      "_view_module": "@jupyter-widgets/base",
      "_view_module_version": "1.2.0",
      "_view_name": "LayoutView",
      "align_content": null,
      "align_items": null,
      "align_self": null,
      "border": null,
      "bottom": null,
      "display": null,
      "flex": null,
      "flex_flow": null,
      "grid_area": null,
      "grid_auto_columns": null,
      "grid_auto_flow": null,
      "grid_auto_rows": null,
      "grid_column": null,
      "grid_gap": null,
      "grid_row": null,
      "grid_template_areas": null,
      "grid_template_columns": null,
      "grid_template_rows": null,
      "height": null,
      "justify_content": null,
      "justify_items": null,
      "left": null,
      "margin": null,
      "max_height": null,
      "max_width": null,
      "min_height": null,
      "min_width": null,
      "object_fit": null,
      "object_position": null,
      "order": null,
      "overflow": null,
      "overflow_x": null,
      "overflow_y": null,
      "padding": null,
      "right": null,
      "top": null,
      "visibility": null,
      "width": null
     }
    },
    "e81d7d171ae341ffa90eb58776d10a3a": {
     "model_module": "@jupyter-widgets/base",
     "model_name": "LayoutModel",
     "state": {
      "_model_module": "@jupyter-widgets/base",
      "_model_module_version": "1.2.0",
      "_model_name": "LayoutModel",
      "_view_count": null,
      "_view_module": "@jupyter-widgets/base",
      "_view_module_version": "1.2.0",
      "_view_name": "LayoutView",
      "align_content": null,
      "align_items": null,
      "align_self": null,
      "border": null,
      "bottom": null,
      "display": null,
      "flex": null,
      "flex_flow": null,
      "grid_area": null,
      "grid_auto_columns": null,
      "grid_auto_flow": null,
      "grid_auto_rows": null,
      "grid_column": null,
      "grid_gap": null,
      "grid_row": null,
      "grid_template_areas": null,
      "grid_template_columns": null,
      "grid_template_rows": null,
      "height": null,
      "justify_content": null,
      "justify_items": null,
      "left": null,
      "margin": null,
      "max_height": null,
      "max_width": null,
      "min_height": null,
      "min_width": null,
      "object_fit": null,
      "object_position": null,
      "order": null,
      "overflow": null,
      "overflow_x": null,
      "overflow_y": null,
      "padding": null,
      "right": null,
      "top": null,
      "visibility": null,
      "width": null
     }
    },
    "f10af7692f8847c991dffa12ca59c5e5": {
     "model_module": "@jupyter-widgets/controls",
     "model_name": "HTMLModel",
     "state": {
      "_dom_classes": [],
      "_model_module": "@jupyter-widgets/controls",
      "_model_module_version": "1.5.0",
      "_model_name": "HTMLModel",
      "_view_count": null,
      "_view_module": "@jupyter-widgets/controls",
      "_view_module_version": "1.5.0",
      "_view_name": "HTMLView",
      "description": "",
      "description_tooltip": null,
      "layout": "IPY_MODEL_e5905c7dd824491e804118e520b06337",
      "placeholder": "​",
      "style": "IPY_MODEL_b825f5c363824b9cb7a1f5aa7dc9a0e7",
      "value": "Render HTML: 100%"
     }
    },
    "f3ffa9911f1641d78332b133cb9133a3": {
     "model_module": "@jupyter-widgets/controls",
     "model_name": "FloatProgressModel",
     "state": {
      "_dom_classes": [],
      "_model_module": "@jupyter-widgets/controls",
      "_model_module_version": "1.5.0",
      "_model_name": "FloatProgressModel",
      "_view_count": null,
      "_view_module": "@jupyter-widgets/controls",
      "_view_module_version": "1.5.0",
      "_view_name": "ProgressView",
      "bar_style": "success",
      "description": "",
      "description_tooltip": null,
      "layout": "IPY_MODEL_e81d7d171ae341ffa90eb58776d10a3a",
      "max": 1,
      "min": 0,
      "orientation": "horizontal",
      "style": "IPY_MODEL_c485d64858b1464a89898bc0e41c8fb7",
      "value": 1
     }
    }
   }
  }
 },
 "nbformat": 4,
 "nbformat_minor": 1
}
